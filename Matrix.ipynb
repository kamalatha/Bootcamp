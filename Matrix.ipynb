{
  "nbformat": 4,
  "nbformat_minor": 0,
  "metadata": {
    "colab": {
      "provenance": [],
      "authorship_tag": "ABX9TyN657KpiLKBWXoV7MJLubXG",
      "include_colab_link": true
    },
    "kernelspec": {
      "name": "python3",
      "display_name": "Python 3"
    },
    "language_info": {
      "name": "python"
    }
  },
  "cells": [
    {
      "cell_type": "markdown",
      "metadata": {
        "id": "view-in-github",
        "colab_type": "text"
      },
      "source": [
        "<a href=\"https://colab.research.google.com/github/kamalatha/Bootcamp/blob/main/Matrix.ipynb\" target=\"_parent\"><img src=\"https://colab.research.google.com/assets/colab-badge.svg\" alt=\"Open In Colab\"/></a>"
      ]
    },
    {
      "cell_type": "code",
      "execution_count": 1,
      "metadata": {
        "id": "swwBgKoHupPV"
      },
      "outputs": [],
      "source": [
        "import numpy as np\n",
        "import matplotlib.pyplot as plt"
      ]
    },
    {
      "cell_type": "code",
      "source": [
        "n1=int(input('enter number of elements in X=\\n'))\n",
        "x=[]\n",
        "for i in range(n1):\n",
        "    x.append(int(input()))\n",
        "print('X=',str(x))\n",
        "n2=int(input('enter number of elements in H=\\n'))\n",
        "h=[]\n",
        "for i in range(n2):\n",
        "       h.append(int(input()))\n",
        "print('H=',str(x))"
      ],
      "metadata": {
        "colab": {
          "base_uri": "https://localhost:8080/"
        },
        "id": "qvjL4-62vho5",
        "outputId": "a3cb1881-6999-4c8a-fd15-2b9da7512582"
      },
      "execution_count": 11,
      "outputs": [
        {
          "output_type": "stream",
          "name": "stdout",
          "text": [
            "enter number of elements in X=\n",
            "2\n",
            "4\n",
            "5\n",
            "X= [4, 5]\n",
            "enter number of elements in H=\n",
            "6\n",
            "7\n",
            "5\n",
            "8\n",
            "3\n",
            "5\n",
            "7\n",
            "H= [4, 5]\n"
          ]
        }
      ]
    },
    {
      "cell_type": "code",
      "source": [
        "lengthOfY = n1 + n2 - 1\n",
        "\n",
        "y = [0] * lengthOfY\n",
        "\n",
        "for i in range(n1):\n",
        "    for j in range(n2):\n",
        "        y[i + j] += x[i] * h[j]\n",
        "\n",
        "print(y)"
      ],
      "metadata": {
        "colab": {
          "base_uri": "https://localhost:8080/"
        },
        "id": "fxAeaJdiuwRb",
        "outputId": "c1ca0622-9032-4454-a0fc-df7c3447be06"
      },
      "execution_count": 12,
      "outputs": [
        {
          "output_type": "stream",
          "name": "stdout",
          "text": [
            "[28, 55, 57, 52, 35, 53, 35]\n"
          ]
        }
      ]
    },
    {
      "cell_type": "code",
      "source": [
        "plt.stem(y)"
      ],
      "metadata": {
        "colab": {
          "base_uri": "https://localhost:8080/",
          "height": 448
        },
        "id": "JANfg7iNuz-_",
        "outputId": "cce00fc6-b5d2-4c56-c25f-9697c70d1e04"
      },
      "execution_count": 13,
      "outputs": [
        {
          "output_type": "execute_result",
          "data": {
            "text/plain": [
              "<StemContainer object of 3 artists>"
            ]
          },
          "metadata": {},
          "execution_count": 13
        },
        {
          "output_type": "display_data",
          "data": {
            "text/plain": [
              "<Figure size 640x480 with 1 Axes>"
            ],
            "image/png": "[encoded data removed]"
          },
          "metadata": {}
        }
      ]
    }
  ]
}
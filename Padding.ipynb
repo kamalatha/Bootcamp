{
  "nbformat": 4,
  "nbformat_minor": 0,
  "metadata": {
    "colab": {
      "provenance": [],
      "authorship_tag": "ABX9TyOgzadJIuSxKZ0VcJwNKAZD",
      "include_colab_link": true
    },
    "kernelspec": {
      "name": "python3",
      "display_name": "Python 3"
    },
    "language_info": {
      "name": "python"
    }
  },
  "cells": [
    {
      "cell_type": "markdown",
      "metadata": {
        "id": "view-in-github",
        "colab_type": "text"
      },
      "source": [
        "<a href=\"https://colab.research.google.com/github/kamalatha/Bootcamp/blob/main/Padding.ipynb\" target=\"_parent\"><img src=\"https://colab.research.google.com/assets/colab-badge.svg\" alt=\"Open In Colab\"/></a>"
      ]
    },
    {
      "cell_type": "code",
      "execution_count": 1,
      "metadata": {
        "colab": {
          "base_uri": "https://localhost:8080/"
        },
        "id": "eDK88Cw0v79W",
        "outputId": "3c280a8b-ebad-4766-c2a5-4ef63f40cf01"
      },
      "outputs": [
        {
          "output_type": "stream",
          "name": "stdout",
          "text": [
            "With zero padding = FULL \n",
            "\n",
            "[[1 1 1 1 0 0]\n",
            " [0 2 2 1 1 0]\n",
            " [1 1 3 3 1 1]\n",
            " [0 2 1 4 2 1]\n",
            " [0 0 2 1 2 1]\n",
            " [0 1 0 2 0 1]] \n",
            "\n",
            "With zero padding = SAME \n",
            "\n",
            "[[2 2 1 1]\n",
            " [1 3 3 1]\n",
            " [2 1 4 2]\n",
            " [0 2 1 2]] \n",
            "\n",
            "Without zero padding \n",
            "\n",
            "[[3 3]\n",
            " [1 4]]\n"
          ]
        }
      ],
      "source": [
        "import scipy.signal as sps\n",
        "\n",
        "X = [[1, 1, 0, 0],\n",
        "     [0, 1, 1, 0],\n",
        "     [0, 0, 1, 1],\n",
        "     [0, 1, 0, 1]]\n",
        "\n",
        "H = [[1, 0, 1],\n",
        "     [0, 1, 0],\n",
        "     [1, 0, 1]]\n",
        "\n",
        "print('With zero padding = FULL \\n')\n",
        "print('{0} \\n'.format(sps.convolve(X, H, 'full')))   # Capital X here\n",
        "\n",
        "print('With zero padding = SAME \\n')\n",
        "print('{0} \\n'.format(sps.convolve(X, H, 'same')))   # Capital X here\n",
        "\n",
        "print('Without zero padding \\n')\n",
        "print(sps.convolve(X, H, 'valid'))                   # Capital X here"
      ]
    }
  ]
}
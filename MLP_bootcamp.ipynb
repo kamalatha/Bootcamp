{
  "nbformat": 4,
  "nbformat_minor": 0,
  "metadata": {
    "colab": {
      "provenance": [],
      "authorship_tag": "ABX9TyOw6OPRdzBIb4a9gihdm/kb",
      "include_colab_link": true
    },
    "kernelspec": {
      "name": "python3",
      "display_name": "Python 3"
    },
    "language_info": {
      "name": "python"
    }
  },
  "cells": [
    {
      "cell_type": "markdown",
      "metadata": {
        "id": "view-in-github",
        "colab_type": "text"
      },
      "source": [
        "<a href=\"https://colab.research.google.com/github/kamalatha/Bootcamp/blob/main/MLP_bootcamp.ipynb\" target=\"_parent\"><img src=\"https://colab.research.google.com/assets/colab-badge.svg\" alt=\"Open In Colab\"/></a>"
      ]
    },
    {
      "cell_type": "code",
      "source": [
        "import numpy as np\n",
        "import pandas as pd\n",
        "import matplotlib.pyplot as plt\n",
        "import tensorflow as tf\n",
        "from tensorflow import keras\n",
        "from sklearn import datasets\n",
        "from sklearn.preprocessing import StandardScaler\n",
        "from sklearn.linear_model import Perceptron\n",
        "from sklearn.neural_network import MLPClassifier\n",
        "from tensorflow.keras.models import Sequential\n",
        "from tensorflow.keras.layers import Flatten, Dense\n",
        "from sklearn.metrics import accuracy_score"
      ],
      "metadata": {
        "id": "zoC56XqdI77q"
      },
      "execution_count": null,
      "outputs": []
    },
    {
      "cell_type": "code",
      "source": [
        "# Load Iris dataset\n",
        "iris = datasets.load_iris()\n",
        "# Consider petal length, petal width\n",
        "X = iris.data[:, (2, 3)]\n",
        "# Whether Iris setosa?\n",
        "y = (iris.target == 0).astype(int)\n",
        "\n",
        "# Instantiate Perceptron\n",
        "per_clf = Perceptron()\n",
        "# Fit on data\n",
        "per_clf.fit(X, y)\n",
        "\n",
        "# Prediction on one sample instance\n",
        "y_pred = per_clf.predict([[2, 0.5]])\n",
        "y_pred"
      ],
      "metadata": {
        "id": "gchHX0frI9Uv"
      },
      "execution_count": null,
      "outputs": []
    },
    {
      "cell_type": "code",
      "source": [
        "# Using Keras to load the dataset\n",
        "fashion_mnist = keras.datasets.fashion_mnist\n",
        "(X_train_full, y_train_full), (X_test, y_test) = fashion_mnist.load_data()"
      ],
      "metadata": {
        "id": "qI3lVNdAJBL1"
      },
      "execution_count": null,
      "outputs": []
    },
    {
      "cell_type": "code",
      "source": [
        "# Shape and datatype of X_train_full\n",
        "X_train_full.shape, X_train_full.dtype"
      ],
      "metadata": {
        "id": "nrZBp5UKJHb7"
      },
      "execution_count": null,
      "outputs": []
    },
    {
      "cell_type": "code",
      "source": [
        "# Validation set and scaling\n",
        "X_valid = X_train_full[:5000] / 255.0\n",
        "X_train = X_train_full[5000:] / 255.0\n",
        "y_valid = y_train_full[:5000]\n",
        "y_train = y_train_full[5000:]"
      ],
      "metadata": {
        "id": "kej4kFwjJLYf"
      },
      "execution_count": null,
      "outputs": []
    },
    {
      "cell_type": "code",
      "source": [
        "# List of labels\n",
        "class_names = [\"T-shirt/top\", \"Trouser\", \"Pullover\", \"Dress\", \"Coat\", \"Sandal\", \"Shirt\", \"Sneaker\", \"Bag\", \"Ankle boot\"]\n",
        "\n",
        "# First image in the training set\n",
        "class_names[y_train[0]]"
      ],
      "metadata": {
        "id": "Sal8uoMxJMM-"
      },
      "execution_count": null,
      "outputs": []
    },
    {
      "cell_type": "code",
      "source": [
        "# Create model with 2 hidden layers and one output layer\n",
        "model = Sequential()\n",
        "model.add(Flatten(input_shape=[28, 28]))\n",
        "model.add(Dense(300, activation=\"relu\"))\n",
        "model.add(Dense(100, activation=\"relu\"))\n",
        "model.add(Dense(10, activation=\"softmax\"))"
      ],
      "metadata": {
        "id": "NYLXheG5JO7P"
      },
      "execution_count": null,
      "outputs": []
    },
    {
      "cell_type": "code",
      "source": [
        "# Create model with 2 hidden layers and one output layer\n",
        "model = Sequential([\n",
        "                    Flatten(input_shape=[28, 28]),\n",
        "                    Dense(300, activation=\"relu\"),\n",
        "                    Dense(100, activation=\"relu\"),\n",
        "                    Dense(10, activation=\"softmax\")\n",
        "                    ])"
      ],
      "metadata": {
        "id": "YWjrd4HtJR2M"
      },
      "execution_count": null,
      "outputs": []
    },
    {
      "cell_type": "code",
      "source": [
        "# Summary of model\n",
        "model.summary()"
      ],
      "metadata": {
        "id": "iqJNgNPBJVk9"
      },
      "execution_count": null,
      "outputs": []
    },
    {
      "cell_type": "code",
      "source": [
        "# Compile model\n",
        "model.compile(loss=\"sparse_categorical_crossentropy\",\n",
        "              optimizer=\"sgd\",\n",
        "              metrics=[\"accuracy\"]\n",
        "              )"
      ],
      "metadata": {
        "id": "MjH6_-HyJYNT"
      },
      "execution_count": null,
      "outputs": []
    },
    {
      "cell_type": "code",
      "source": [
        "# Training model on Training set\n",
        "history = model.fit(X_train, y_train, epochs=30, validation_data = (X_valid, y_valid))"
      ],
      "metadata": {
        "id": "9WKFo0A6LbTR"
      },
      "execution_count": null,
      "outputs": []
    },
    {
      "cell_type": "code",
      "source": [
        "# Visualize training and validation metrics\n",
        "df = pd.DataFrame(history.history)\n",
        "df.plot(figsize=(8, 5))\n",
        "plt.grid(True)\n",
        "# set the vertical range to [0-1]\n",
        "plt.gca().set_ylim(0, 1)\n",
        "plt.show()"
      ],
      "metadata": {
        "id": "-KQ9QBPjLbPH"
      },
      "execution_count": null,
      "outputs": []
    },
    {
      "cell_type": "code",
      "source": [
        "# Model performance on test set\n",
        "model.evaluate(X_test, y_test)"
      ],
      "metadata": {
        "id": "yaGCmu5PLbLZ"
      },
      "execution_count": null,
      "outputs": []
    },
    {
      "cell_type": "code",
      "source": [
        "# Predict class probabilities for first three instances of X_test\n",
        "X_new = X_test[:3]\n",
        "y_proba = model.predict(X_new)\n",
        "y_proba.round(2)"
      ],
      "metadata": {
        "id": "X1odRmwfLbGU"
      },
      "execution_count": null,
      "outputs": []
    },
    {
      "cell_type": "code",
      "source": [
        "# Predict class labels for first three instances of X_test\n",
        "y_pred = np.argmax(model.predict(X_new), axis=-1)\n",
        "print(\"Predicted labels: \\n\", y_pred)\n",
        "\n",
        "print(np.array(class_names)[y_pred])"
      ],
      "metadata": {
        "id": "boraoVrfLa9e"
      },
      "execution_count": null,
      "outputs": []
    },
    {
      "cell_type": "code",
      "source": [
        "# Actual labels\n",
        "y_new = y_test[:3]\n",
        "print(\"Actual labels: \", y_new)\n",
        "\n",
        "fig, ax = plt.subplots(1,3)\n",
        "for axi, i in zip(ax.ravel(), np.arange(len(X_new))):\n",
        "    axi.imshow(X_new[i], cmap='Greys')"
      ],
      "metadata": {
        "id": "z5bOjUzRLaxK"
      },
      "execution_count": null,
      "outputs": []
    },
    {
      "cell_type": "code",
      "source": [
        "# generate 50 random numbers for 4 quadrants represents XOR\n",
        "x1 = np.random.uniform(1,3,50)\n",
        "x2 = np.random.uniform(4,6,50)\n",
        "y1 = np.random.uniform(1,3,50)\n",
        "y2 = np.random.uniform(4,6,50)\n",
        "\n",
        "# features\n",
        "X_1 = np.vstack([np.append(x1,x2), np.append(y1,y2)]).T\n",
        "X_2 = np.vstack([np.append(x1,x2), np.append(y2,y1)]).T\n",
        "X = np.vstack([X_1, X_2])\n",
        "\n",
        "# label 0 and 1\n",
        "y_1 = [0 for i in range(len(X_1))]\n",
        "y_2 = [1 for i in range(len(X_2))]\n",
        "y = np.append(y_1, y_2)\n",
        "\n",
        "# stack features and labels\n",
        "data = np.hstack([X,y.reshape(-1,1)])\n",
        "\n",
        "# shuffle the dataset\n",
        "np.random.shuffle(data)\n",
        "# Split the data\n",
        "X, y = data[:,:2], data[:,2]\n",
        "X = StandardScaler().fit_transform(X)\n",
        "\n",
        "# Visualize data\n",
        "plt.scatter(X[:, 0], X[:, 1], c=y, s=50, cmap='autumn')\n",
        "plt.show()"
      ],
      "metadata": {
        "id": "y2HtlZSNLae2"
      },
      "execution_count": null,
      "outputs": []
    },
    {
      "cell_type": "code",
      "source": [
        "# Train a single Perceptron\n",
        "per_clf = Perceptron()\n",
        "per_clf.fit(X, y)\n",
        "pred = per_clf.predict(X)\n",
        "accuracy_score(y, pred)"
      ],
      "metadata": {
        "id": "qUbppthqL3c2"
      },
      "execution_count": null,
      "outputs": []
    },
    {
      "cell_type": "code",
      "source": [
        "# Visualize prediction using single Perceptron\n",
        "plt.scatter(X[:, 0], X[:, 1], c=pred, s=50, cmap='autumn')\n",
        "plt.show()"
      ],
      "metadata": {
        "id": "GGMgYC2yL3WN"
      },
      "execution_count": null,
      "outputs": []
    },
    {
      "cell_type": "code",
      "source": [
        "# Train an MLP classifier\n",
        "model = MLPClassifier(activation='relu',\n",
        "                      max_iter=10000,\n",
        "                      hidden_layer_sizes=(4)\n",
        "                      )\n",
        "model.fit(X, y)\n",
        "y_pred = model.predict(X)\n",
        "accuracy_score(y, y_pred)"
      ],
      "metadata": {
        "id": "bNGhqmaUL8DA"
      },
      "execution_count": null,
      "outputs": []
    },
    {
      "cell_type": "code",
      "source": [
        "# Visualize prediction using multilayer perceptron\n",
        "plt.scatter(X[:, 0], X[:, 1], c=y_pred, s=50, cmap='autumn')\n",
        "plt.show()"
      ],
      "metadata": {
        "id": "84mrg9eTL-01"
      },
      "execution_count": null,
      "outputs": []
    }
  ]
}